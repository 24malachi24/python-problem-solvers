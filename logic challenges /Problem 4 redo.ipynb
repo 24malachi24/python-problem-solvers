{
 "cells": [
  {
   "cell_type": "code",
   "execution_count": 6,
   "id": "47a18852",
   "metadata": {},
   "outputs": [
    {
     "name": "stdout",
     "output_type": "stream",
     "text": [
      "Lowest Payment:451.63\n"
     ]
    }
   ],
   "source": [
    "balance = 5000\n",
    "temp_bal = balance\n",
    "annualInterestRate = 0.18\n",
    "monthlyInterestRate = annualInterestRate/12\n",
    "lower = balance/12\n",
    "higher = (balance*(monthlyInterestRate + 1)**12)/12\n",
    "r= 0.01\n",
    "minPay =(higher+lower)/2\n",
    "\n",
    "def recuringPayment(balance, month, minPay,monthlyInterestRate):\n",
    "    while month < 12: \n",
    "        unpaidBal = balance - minPay\n",
    "        balance = unpaidBal + (monthlyInterestRate * unpaidBal )\n",
    "        month += 1\n",
    "    return balance\n",
    "\n",
    "while abs(balance) >= r: \n",
    "    balance = temp_bal\n",
    "    month = 0\n",
    "    balance = recuringPayment(balance, month, minPay,monthlyInterestRate)\n",
    "    if(balance > 0):\n",
    "        lower = minPay \n",
    "    else: \n",
    "        higher = minPay\n",
    "    minPay = (higher+lower)/2\n",
    "minPay = round(minPay ,2)\n",
    "print(\"Lowest Payment:\"+str(minPay))\n",
    "\n",
    "        \n",
    "        "
   ]
  },
  {
   "cell_type": "code",
   "execution_count": null,
   "id": "d73c4a77",
   "metadata": {},
   "outputs": [],
   "source": []
  }
 ],
 "metadata": {
  "kernelspec": {
   "display_name": "Python 3 (ipykernel)",
   "language": "python",
   "name": "python3"
  },
  "language_info": {
   "codemirror_mode": {
    "name": "ipython",
    "version": 3
   },
   "file_extension": ".py",
   "mimetype": "text/x-python",
   "name": "python",
   "nbconvert_exporter": "python",
   "pygments_lexer": "ipython3",
   "version": "3.9.12"
  }
 },
 "nbformat": 4,
 "nbformat_minor": 5
}
