{
 "cells": [
  {
   "cell_type": "code",
   "execution_count": 1,
   "id": "bb8cbcb3",
   "metadata": {},
   "outputs": [
    {
     "name": "stdout",
     "output_type": "stream",
     "text": [
      "Number of times bob occurs is: 2\n"
     ]
    }
   ],
   "source": [
    "s = 'azcbobobegghakl'\n",
    "v=0\n",
    "for i in range(len(s)):\n",
    "    if(s[i:i+3]) == \"bob\":\n",
    "        v += 1\n",
    "print(\"Number of times bob occurs is: \" + str(v))"
   ]
  },
  {
   "cell_type": "code",
   "execution_count": null,
   "id": "a235a8e8",
   "metadata": {},
   "outputs": [],
   "source": []
  }
 ],
 "metadata": {
  "kernelspec": {
   "display_name": "Python 3 (ipykernel)",
   "language": "python",
   "name": "python3"
  },
  "language_info": {
   "codemirror_mode": {
    "name": "ipython",
    "version": 3
   },
   "file_extension": ".py",
   "mimetype": "text/x-python",
   "name": "python",
   "nbconvert_exporter": "python",
   "pygments_lexer": "ipython3",
   "version": "3.9.12"
  }
 },
 "nbformat": 4,
 "nbformat_minor": 5
}
