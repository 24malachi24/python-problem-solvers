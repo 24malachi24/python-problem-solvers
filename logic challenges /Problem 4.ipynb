{
 "cells": [
  {
   "cell_type": "code",
   "execution_count": 10,
   "id": "4e7bf7af",
   "metadata": {},
   "outputs": [
    {
     "name": "stdout",
     "output_type": "stream",
     "text": [
      "Lowest Payment: 457.42\n"
     ]
    }
   ],
   "source": [
    "balance = 5000\n",
    "annualInterestRate = 0.18\n",
    "monthlyInterestRate = annualInterestRate/12\n",
    "lower = balance/12.0\n",
    "higher = (balance* (monthlyInterestRate +1)**12)/12\n",
    "r = 0.01\n",
    "\n",
    "def remainingBal(money):\n",
    "    if money == int:\n",
    "        unpaidBal = money - monthlyPayment + ((money-monthlyPayment)* monthlyInterestRate)\n",
    "        return remainingBal(money+unpaidBal)\n",
    "    \n",
    "while abs(balance) > r:\n",
    "    monthlyPayment = (higher + lower)/2\n",
    "    month =12\n",
    "    for i in range(month):\n",
    "        remainingBal(balance)\n",
    "        if balance > r:\n",
    "            lower = monthlyPayment\n",
    "        elif balance < -r:\n",
    "            higher = monthlyPayment\n",
    "        else:\n",
    "            break\n",
    "    break\n",
    "        \n",
    "print(\"Lowest Payment:\" , round(monthlyPayment,2))"
   ]
  },
  {
   "cell_type": "code",
   "execution_count": null,
   "id": "5a9f28a3",
   "metadata": {},
   "outputs": [],
   "source": []
  }
 ],
 "metadata": {
  "kernelspec": {
   "display_name": "Python 3 (ipykernel)",
   "language": "python",
   "name": "python3"
  },
  "language_info": {
   "codemirror_mode": {
    "name": "ipython",
    "version": 3
   },
   "file_extension": ".py",
   "mimetype": "text/x-python",
   "name": "python",
   "nbconvert_exporter": "python",
   "pygments_lexer": "ipython3",
   "version": "3.9.12"
  }
 },
 "nbformat": 4,
 "nbformat_minor": 5
}
