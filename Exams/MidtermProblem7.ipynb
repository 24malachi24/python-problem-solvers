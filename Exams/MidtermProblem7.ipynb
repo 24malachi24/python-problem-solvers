{
 "cells": [
  {
   "cell_type": "code",
   "execution_count": 30,
   "id": "32b658bc",
   "metadata": {},
   "outputs": [
    {
     "name": "stdout",
     "output_type": "stream",
     "text": [
      "['b', 'c']\n"
     ]
    }
   ],
   "source": [
    "def satisfiesF (L):\n",
    "    '''\n",
    "     L is a list of strings. \n",
    "     Assume function f is provided and it maps a string to a Boolean.\n",
    "     Mutate L such that it contains all of the strings, s, originally in L such that f(s) \n",
    "     returns False and no other elements. Remaining elements in L should be in the same \n",
    "     order. \n",
    "    '''\n",
    "    #Your Code Here \n",
    "    for i in L:\n",
    "        if f(i) is True:\n",
    "            L.remove(i)\n",
    "    return L\n",
    "\n",
    "def f(s):\n",
    "    return 'a' in s\n",
    "\n",
    "def run_satisfiesF(L, satisfiesF):\n",
    "    print(satisfiesF(L))\n",
    "\n",
    "L = ['a','b','c']\n",
    "\n",
    "run_satisfiesF(L, satisfiesF)\n"
   ]
  }
 ],
 "metadata": {
  "kernelspec": {
   "display_name": "Python 3 (ipykernel)",
   "language": "python",
   "name": "python3"
  },
  "language_info": {
   "codemirror_mode": {
    "name": "ipython",
    "version": 3
   },
   "file_extension": ".py",
   "mimetype": "text/x-python",
   "name": "python",
   "nbconvert_exporter": "python",
   "pygments_lexer": "ipython3",
   "version": "3.9.12"
  }
 },
 "nbformat": 4,
 "nbformat_minor": 5
}
