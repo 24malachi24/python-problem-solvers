{
 "cells": [
  {
   "cell_type": "code",
   "execution_count": 6,
   "id": "e8a82c3d",
   "metadata": {},
   "outputs": [
    {
     "name": "stdout",
     "output_type": "stream",
     "text": [
      "[[7, 6, 5], [4, 3], [2, 1]]\n"
     ]
    }
   ],
   "source": [
    "def deep_reverse(L): \n",
    "    \"\"\" assumes L is a list of lists whose elements are ints \n",
    "    Mutates L such that it reverses its elements and also  \n",
    "    reverses the order of the int elements in every element of L.  \n",
    "    It does not return anything. \n",
    "    \"\"\" \n",
    "    # Your code here\n",
    "    for i in reversed(L):\n",
    "        i.reverse()\n",
    "        L.append(i)\n",
    "    L[:] = L[len(L)//2:]\n",
    "\n",
    "L = [[1, 2], [3, 4], [5, 6, 7]]\n",
    "deep_reverse(L)\n",
    "print(L)\n",
    "        \n",
    "   "
   ]
  }
 ],
 "metadata": {
  "kernelspec": {
   "display_name": "Python 3 (ipykernel)",
   "language": "python",
   "name": "python3"
  },
  "language_info": {
   "codemirror_mode": {
    "name": "ipython",
    "version": 3
   },
   "file_extension": ".py",
   "mimetype": "text/x-python",
   "name": "python",
   "nbconvert_exporter": "python",
   "pygments_lexer": "ipython3",
   "version": "3.9.12"
  }
 },
 "nbformat": 4,
 "nbformat_minor": 5
}
