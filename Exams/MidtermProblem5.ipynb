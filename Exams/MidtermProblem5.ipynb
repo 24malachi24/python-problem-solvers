{
 "cells": [
  {
   "cell_type": "code",
   "execution_count": 4,
   "id": "46fad308",
   "metadata": {},
   "outputs": [
    {
     "name": "stdout",
     "output_type": "stream",
     "text": [
      "{10: [1], 20: [2], 30: [3]}\n",
      "{10: [1], 20: [2], 30: [3, 4]}\n",
      "{True: [4, 2, 0]}\n"
     ]
    }
   ],
   "source": [
    "def dict_invert(d):\n",
    "    \n",
    "    invD = {}\n",
    "    for k, v in d.items():\n",
    "        invD[v] = invD.get(v, [])+[k]\n",
    "    return invD\n",
    "d= {1:10, 2:20 , 3:30}\n",
    "e = {1:10, 2:20 , 3:30, 4:30}\n",
    "f = {4:True, 2:True, 0:True}\n",
    "print(dict_invert(d))\n",
    "print(dict_invert(e))\n",
    "print(dict_invert(f))"
   ]
  }
 ],
 "metadata": {
  "kernelspec": {
   "display_name": "Python 3 (ipykernel)",
   "language": "python",
   "name": "python3"
  },
  "language_info": {
   "codemirror_mode": {
    "name": "ipython",
    "version": 3
   },
   "file_extension": ".py",
   "mimetype": "text/x-python",
   "name": "python",
   "nbconvert_exporter": "python",
   "pygments_lexer": "ipython3",
   "version": "3.9.12"
  }
 },
 "nbformat": 4,
 "nbformat_minor": 5
}
