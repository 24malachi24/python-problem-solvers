{
 "cells": [
  {
   "cell_type": "code",
   "execution_count": 2,
   "id": "21924beb",
   "metadata": {},
   "outputs": [
    {
     "name": "stdout",
     "output_type": "stream",
     "text": [
      "[1, 3, 8]\n",
      "[]\n"
     ]
    }
   ],
   "source": [
    "def uniqueValues(aDict):\n",
    "    '''\n",
    "    aDict: a dictionary\n",
    "    returns: a sorted list of keys that map to unique aDict values, empty \n",
    "    list if none\n",
    "    '''\n",
    "    # Your code here\n",
    "    Dkeys = []\n",
    "    Dict ={}\n",
    "    \n",
    "    for i in list(aDict.keys()):\n",
    "        if aDict[i] not in Dict:\n",
    "            Dict[aDict[i]]=1\n",
    "        else:\n",
    "            Dict[aDict[i]]+=1\n",
    "    for j in Dict.keys():\n",
    "        if Dict[j]==1:\n",
    "            for k in aDict.keys():\n",
    "                if aDict[k]==j:\n",
    "                    Dkeys.append(k)\n",
    "    return sorted(Dkeys)\n",
    "\n",
    "aDict = {1: 1, 3: 2, 6: 0, 7: 0, 8: 4, 10: 0}\n",
    "aDict2 = {1: 1, 2: 1, 3: 1}\n",
    "\n",
    "print(uniqueValues(aDict))\n",
    "print(uniqueValues(aDict2))"
   ]
  }
 ],
 "metadata": {
  "kernelspec": {
   "display_name": "Python 3 (ipykernel)",
   "language": "python",
   "name": "python3"
  },
  "language_info": {
   "codemirror_mode": {
    "name": "ipython",
    "version": 3
   },
   "file_extension": ".py",
   "mimetype": "text/x-python",
   "name": "python",
   "nbconvert_exporter": "python",
   "pygments_lexer": "ipython3",
   "version": "3.9.12"
  }
 },
 "nbformat": 4,
 "nbformat_minor": 5
}
