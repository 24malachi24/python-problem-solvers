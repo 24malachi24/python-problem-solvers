{
 "cells": [
  {
   "cell_type": "code",
   "execution_count": 1,
   "id": "f25203b2",
   "metadata": {},
   "outputs": [
    {
     "name": "stdout",
     "output_type": "stream",
     "text": [
      "[2, 3, 5, 7]\n"
     ]
    }
   ],
   "source": [
    "def primes_list(N):\n",
    "    '''\n",
    "    N: an integer\n",
    "    Returns a list of prime numbers\n",
    "    '''\n",
    "    lists = []\n",
    "    for i in range(2, N+1):\n",
    "        prime = True\n",
    "        for j in range(2,i):\n",
    "            if i % j == 0:\n",
    "                prime = False\n",
    "        if prime:\n",
    "            lists.append(i)\n",
    "    return lists\n",
    "    \n",
    "print(primes_list(10))"
   ]
  }
 ],
 "metadata": {
  "kernelspec": {
   "display_name": "Python 3 (ipykernel)",
   "language": "python",
   "name": "python3"
  },
  "language_info": {
   "codemirror_mode": {
    "name": "ipython",
    "version": 3
   },
   "file_extension": ".py",
   "mimetype": "text/x-python",
   "name": "python",
   "nbconvert_exporter": "python",
   "pygments_lexer": "ipython3",
   "version": "3.9.12"
  }
 },
 "nbformat": 4,
 "nbformat_minor": 5
}
