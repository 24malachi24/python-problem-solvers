{
 "cells": [
  {
   "cell_type": "code",
   "execution_count": 15,
   "id": "db9bae4b",
   "metadata": {},
   "outputs": [
    {
     "name": "stdout",
     "output_type": "stream",
     "text": [
      "Results Wanted: aebfcgdhi\n",
      "Resutls Recieved: aebfcgdhi\n"
     ]
    }
   ],
   "source": [
    "def laceStrings(s1,s2):\n",
    "    blendStr=[]\n",
    "    smallerStr =min(s1,s2,key=len)\n",
    "    for num in range(len(smallerStr)):\n",
    "        blendStr.append(s1[num])\n",
    "        blendStr.append(s2[num])\n",
    "    blendStr =''.join(blendStr)\n",
    "    if len(s1) != len(s2):\n",
    "        smallerStr = len(smallerStr)\n",
    "        blendStr = blendStr + max(s1,s2,key=len)[smallerStr:]\n",
    "    return blendStr\n",
    "print('Results Wanted: aebfcgdhi')\n",
    "print('Resutls Recieved: '+laceStrings('abcd','efghi'))"
   ]
  }
 ],
 "metadata": {
  "kernelspec": {
   "display_name": "Python 3 (ipykernel)",
   "language": "python",
   "name": "python3"
  },
  "language_info": {
   "codemirror_mode": {
    "name": "ipython",
    "version": 3
   },
   "file_extension": ".py",
   "mimetype": "text/x-python",
   "name": "python",
   "nbconvert_exporter": "python",
   "pygments_lexer": "ipython3",
   "version": "3.9.12"
  }
 },
 "nbformat": 4,
 "nbformat_minor": 5
}
