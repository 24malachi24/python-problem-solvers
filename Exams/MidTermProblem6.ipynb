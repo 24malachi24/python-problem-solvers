{
 "cells": [
  {
   "cell_type": "code",
   "execution_count": 6,
   "id": "47792b1f",
   "metadata": {},
   "outputs": [
    {
     "name": "stdout",
     "output_type": "stream",
     "text": [
      "5\n",
      "9\n"
     ]
    }
   ],
   "source": [
    "def max_val(t):\n",
    "    \n",
    "    global max\n",
    "    if isinstance(t, int):\n",
    "        if t > max:\n",
    "            max =t\n",
    "    else:\n",
    "        for v in t:\n",
    "            max_val(v)\n",
    "        return max\n",
    "max = 0\n",
    "t = (5,(1,2),([1],[2]))\n",
    "f = (5,(1,2),([1],[9]))\n",
    "print(max_val(t))\n",
    "print(max_val(f))\n",
    "\n",
    "\n",
    "    "
   ]
  }
 ],
 "metadata": {
  "kernelspec": {
   "display_name": "Python 3 (ipykernel)",
   "language": "python",
   "name": "python3"
  },
  "language_info": {
   "codemirror_mode": {
    "name": "ipython",
    "version": 3
   },
   "file_extension": ".py",
   "mimetype": "text/x-python",
   "name": "python",
   "nbconvert_exporter": "python",
   "pygments_lexer": "ipython3",
   "version": "3.9.12"
  }
 },
 "nbformat": 4,
 "nbformat_minor": 5
}
