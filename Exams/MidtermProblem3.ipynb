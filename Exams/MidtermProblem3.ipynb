{
 "cells": [
  {
   "cell_type": "code",
   "execution_count": 22,
   "id": "1b378d9e",
   "metadata": {},
   "outputs": [
    {
     "name": "stdout",
     "output_type": "stream",
     "text": [
      "402\n"
     ]
    }
   ],
   "source": [
    "def evalQuadratic(a,b,c,x):\n",
    "    ''''\n",
    "    a, b, c: numerical values for the coefficients of a quadratic equation\n",
    "    x: numerical value at which to evaluate the quadratic.\n",
    "    '''\n",
    "    return a*x*x + b*x + c\n",
    "def twoQuadratics(a1,b1,c1,x1,a2,b2,c2,x2):\n",
    "    '''\n",
    "    a1, b1, c1: one set of coefficients of a quadratic equation\n",
    "    a2, b2, c2: another set of coefficients of a quadratic equation\n",
    "    x1, x2: values at which to evaluate the quadratics\n",
    "    '''\n",
    "#Your code here\n",
    "    quad = evalQuadratic(a1,b1,c1,x1)\n",
    "    quad2 = evalQuadratic(a2,b2,c2,x2)\n",
    "    return quad + quad2\n",
    "a1 = 1 \n",
    "b1 = 2\n",
    "c1 = 3\n",
    "x1 = 4\n",
    "a2 = 5\n",
    "b2 = 6 \n",
    "c2 = 7\n",
    "x2 = 8\n",
    "print(twoQuadratics(a1,b1,c1,x1,a2,b2,c2,x2))\n",
    "    "
   ]
  }
 ],
 "metadata": {
  "kernelspec": {
   "display_name": "Python 3 (ipykernel)",
   "language": "python",
   "name": "python3"
  },
  "language_info": {
   "codemirror_mode": {
    "name": "ipython",
    "version": 3
   },
   "file_extension": ".py",
   "mimetype": "text/x-python",
   "name": "python",
   "nbconvert_exporter": "python",
   "pygments_lexer": "ipython3",
   "version": "3.9.12"
  }
 },
 "nbformat": 4,
 "nbformat_minor": 5
}
