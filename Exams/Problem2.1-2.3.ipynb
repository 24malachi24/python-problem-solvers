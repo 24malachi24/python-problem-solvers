{
 "cells": [
  {
   "cell_type": "code",
   "execution_count": 9,
   "id": "1d73a4ca",
   "metadata": {},
   "outputs": [
    {
     "name": "stdout",
     "output_type": "stream",
     "text": [
      "The Remaining Balance is:  4691.11\n"
     ]
    }
   ],
   "source": [
    "balance=5000\n",
    "annualInterestRate=0.18\n",
    "monthlyPaymentRate=0.02\n",
    "month=0\n",
    "\n",
    "i =1 \n",
    "while i<=12:\n",
    "    monthlyInterestRate = annualInterestRate/12.0\n",
    "    minMonthlyPayment = balance * monthlyPaymentRate\n",
    "    unpaidBal = balance - minMonthlyPayment\n",
    "    newBal = unpaidBal + (monthlyInterestRate * unpaidBal)\n",
    "    balance = newBal\n",
    "    i+=1\n",
    "print(\"The Remaining Balance is: \"+ \" \"+ str(round(balance,2)))"
   ]
  },
  {
   "cell_type": "code",
   "execution_count": 2,
   "id": "8334af4e",
   "metadata": {},
   "outputs": [
    {
     "name": "stdout",
     "output_type": "stream",
     "text": [
      "Lowest Payment is: 460\n"
     ]
    }
   ],
   "source": [
    "balance =5000\n",
    "annualInterestRate=0.18\n",
    "monthlyInterestRate=annualInterestRate/12\n",
    "fixedPay = 10\n",
    "def calculate(balance,monthlyInterestRate):\n",
    "    i=1 \n",
    "    while i <=12:\n",
    "        unpaidBal = balance - fixedPay\n",
    "        balance = unpaidBal + (unpaidBal * monthlyInterestRate) \n",
    "        i += 1 \n",
    "    return balance \n",
    "while calculate(balance,monthlyInterestRate) > 0:\n",
    "    fixedPay +=10\n",
    "    calculate(balance,monthlyInterestRate)\n",
    "print(\"Lowest Payment is:\"+ \" \"+str(fixedPay))\n",
    "        \n",
    "        \n",
    "    \n",
    "        "
   ]
  },
  {
   "cell_type": "code",
   "execution_count": 17,
   "id": "a34c2afc",
   "metadata": {},
   "outputs": [
    {
     "name": "stdout",
     "output_type": "stream",
     "text": [
      "Lowest Payment: 451.63\n"
     ]
    }
   ],
   "source": [
    "balance = 5000\n",
    "monthlyInterestRate = annualInterestRate/12\n",
    "lower = balance/12.0\n",
    "higher = (balance * ((1.0+ monthlyInterestRate)**12))/12.0\n",
    "r = 0.01\n",
    "minPay = (higher+lower)/2\n",
    "month=0\n",
    "def calculate(balance,monthlyInterestRate,minPay,month):\n",
    "    while month < 12:\n",
    "        unpaidBal = balance - minPay\n",
    "        balance = unpaidBal + (unpaidBal * monthlyInterestRate)\n",
    "        month +=1\n",
    "    return balance\n",
    "\n",
    "while abs(balance) >= r:\n",
    "    balance = 5000\n",
    "    month =0\n",
    "    balance = calculate(balance,monthlyInterestRate,minPay,month)\n",
    "    if balance > 0:\n",
    "        lower = minPay\n",
    "    else:\n",
    "        higher = minPay\n",
    "    minPay = (higher+lower)/2.0\n",
    "minPay = round(minPay,2)\n",
    "print(\"Lowest Payment: \" + str(minPay))"
   ]
  },
  {
   "cell_type": "code",
   "execution_count": null,
   "id": "57f46582",
   "metadata": {},
   "outputs": [],
   "source": []
  },
  {
   "cell_type": "code",
   "execution_count": null,
   "id": "e5fdd7cf",
   "metadata": {},
   "outputs": [],
   "source": []
  }
 ],
 "metadata": {
  "kernelspec": {
   "display_name": "Python 3 (ipykernel)",
   "language": "python",
   "name": "python3"
  },
  "language_info": {
   "codemirror_mode": {
    "name": "ipython",
    "version": 3
   },
   "file_extension": ".py",
   "mimetype": "text/x-python",
   "name": "python",
   "nbconvert_exporter": "python",
   "pygments_lexer": "ipython3",
   "version": "3.9.12"
  }
 },
 "nbformat": 4,
 "nbformat_minor": 5
}
